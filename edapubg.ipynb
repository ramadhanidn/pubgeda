{
 "cells": [
  {
   "cell_type": "code",
   "execution_count": 1,
   "metadata": {},
   "outputs": [],
   "source": [
    "import pandas as pd\n",
    "import numpy as np\n",
    "import matplotlib.pyplot as plt\n",
    "import seaborn as sns"
   ]
  },
  {
   "cell_type": "markdown",
   "metadata": {},
   "source": [
    "## Exploratory Data Analysis in PUBG Data"
   ]
  },
  {
   "cell_type": "code",
   "execution_count": 70,
   "metadata": {},
   "outputs": [],
   "source": [
    "df = pd.read_csv('edapubg.csv')"
   ]
  },
  {
   "cell_type": "code",
   "execution_count": 71,
   "metadata": {},
   "outputs": [
    {
     "name": "stdout",
     "output_type": "stream",
     "text": [
      "Mengecek nilai null pada dataframe \n",
      " killed_by            False\n",
      "killer_name           True\n",
      "killer_placement      True\n",
      "killer_position_x     True\n",
      "killer_position_y     True\n",
      "map                   True\n",
      "match_id             False\n",
      "time                 False\n",
      "victim_name          False\n",
      "victim_placement      True\n",
      "victim_position_x    False\n",
      "victim_position_y    False\n",
      "dtype: bool \n",
      "\n",
      "Mengetahui Tipe data pada dataframe \n",
      " killed_by             object\n",
      "killer_name           object\n",
      "killer_placement     float64\n",
      "killer_position_x    float64\n",
      "killer_position_y    float64\n",
      "map                   object\n",
      "match_id              object\n",
      "time                   int64\n",
      "victim_name           object\n",
      "victim_placement     float64\n",
      "victim_position_x    float64\n",
      "victim_position_y    float64\n",
      "dtype: object \n",
      "\n",
      "Mengetahui ukuran dataframe (500000, 12) \n",
      "\n"
     ]
    }
   ],
   "source": [
    "print('Mengecek nilai null pada dataframe \\n', df.isnull().any(), '\\n')\n",
    "print('Mengetahui Tipe data pada dataframe \\n', df.dtypes, '\\n')\n",
    "print('Mengetahui ukuran dataframe', df.shape, '\\n')"
   ]
  },
  {
   "cell_type": "code",
   "execution_count": 4,
   "metadata": {},
   "outputs": [
    {
     "data": {
      "text/html": [
       "<div>\n",
       "<style scoped>\n",
       "    .dataframe tbody tr th:only-of-type {\n",
       "        vertical-align: middle;\n",
       "    }\n",
       "\n",
       "    .dataframe tbody tr th {\n",
       "        vertical-align: top;\n",
       "    }\n",
       "\n",
       "    .dataframe thead th {\n",
       "        text-align: right;\n",
       "    }\n",
       "</style>\n",
       "<table border=\"1\" class=\"dataframe\">\n",
       "  <thead>\n",
       "    <tr style=\"text-align: right;\">\n",
       "      <th></th>\n",
       "      <th>killed_by</th>\n",
       "      <th>killer_name</th>\n",
       "      <th>killer_placement</th>\n",
       "      <th>killer_position_x</th>\n",
       "      <th>killer_position_y</th>\n",
       "      <th>map</th>\n",
       "      <th>match_id</th>\n",
       "      <th>time</th>\n",
       "      <th>victim_name</th>\n",
       "      <th>victim_placement</th>\n",
       "      <th>victim_position_x</th>\n",
       "      <th>victim_position_y</th>\n",
       "    </tr>\n",
       "  </thead>\n",
       "  <tbody>\n",
       "    <tr>\n",
       "      <th>0</th>\n",
       "      <td>Hit by Car</td>\n",
       "      <td>Mine008</td>\n",
       "      <td>16.0</td>\n",
       "      <td>406548.9</td>\n",
       "      <td>443307.6</td>\n",
       "      <td>MIRAMAR</td>\n",
       "      <td>2U4GBNA0Ymkpggu1uhT3W6mTS1FSPVOGp7GUN-YyCcamfa...</td>\n",
       "      <td>952</td>\n",
       "      <td>Mine008</td>\n",
       "      <td>16.0</td>\n",
       "      <td>406548.9</td>\n",
       "      <td>443307.6</td>\n",
       "    </tr>\n",
       "    <tr>\n",
       "      <th>1</th>\n",
       "      <td>SCAR-L</td>\n",
       "      <td>EXcarLiber</td>\n",
       "      <td>7.0</td>\n",
       "      <td>467967.8</td>\n",
       "      <td>566232.6</td>\n",
       "      <td>MIRAMAR</td>\n",
       "      <td>2U4GBNA0Ymn8kakDAwbXTATnl3CCPAnVzdY3Mv29Dwu0oj...</td>\n",
       "      <td>828</td>\n",
       "      <td>Shkr89</td>\n",
       "      <td>14.0</td>\n",
       "      <td>470162.2</td>\n",
       "      <td>567417.4</td>\n",
       "    </tr>\n",
       "    <tr>\n",
       "      <th>2</th>\n",
       "      <td>UMP9</td>\n",
       "      <td>bilibilifanfan</td>\n",
       "      <td>10.0</td>\n",
       "      <td>546012.1</td>\n",
       "      <td>235056.8</td>\n",
       "      <td>ERANGEL</td>\n",
       "      <td>2U4GBNA0Ymns8sj0nKyxZWl3B7-0CKMW0-RYyMYrg2IMl5...</td>\n",
       "      <td>671</td>\n",
       "      <td>TlknBoutPractice</td>\n",
       "      <td>15.0</td>\n",
       "      <td>548855.9</td>\n",
       "      <td>233495.8</td>\n",
       "    </tr>\n",
       "    <tr>\n",
       "      <th>3</th>\n",
       "      <td>Drown</td>\n",
       "      <td>NaN</td>\n",
       "      <td>NaN</td>\n",
       "      <td>NaN</td>\n",
       "      <td>NaN</td>\n",
       "      <td>ERANGEL</td>\n",
       "      <td>2U4GBNA0YmncC2jML4aUKeThs1I5Oy0q66F5BjBBeBdnE4...</td>\n",
       "      <td>167</td>\n",
       "      <td>Frivolo</td>\n",
       "      <td>27.0</td>\n",
       "      <td>0.0</td>\n",
       "      <td>0.0</td>\n",
       "    </tr>\n",
       "    <tr>\n",
       "      <th>4</th>\n",
       "      <td>M416</td>\n",
       "      <td>Penard</td>\n",
       "      <td>2.0</td>\n",
       "      <td>292111.8</td>\n",
       "      <td>347930.4</td>\n",
       "      <td>ERANGEL</td>\n",
       "      <td>2U4GBNA0YmkJzzwKWMn2RkYLgpI-0HStabLs0H5CdDwYoX...</td>\n",
       "      <td>1634</td>\n",
       "      <td>SpyderxByte</td>\n",
       "      <td>6.0</td>\n",
       "      <td>291005.5</td>\n",
       "      <td>348340.9</td>\n",
       "    </tr>\n",
       "  </tbody>\n",
       "</table>\n",
       "</div>"
      ],
      "text/plain": [
       "    killed_by     killer_name  killer_placement  killer_position_x  \\\n",
       "0  Hit by Car         Mine008              16.0           406548.9   \n",
       "1      SCAR-L      EXcarLiber               7.0           467967.8   \n",
       "2        UMP9  bilibilifanfan              10.0           546012.1   \n",
       "3       Drown             NaN               NaN                NaN   \n",
       "4        M416          Penard               2.0           292111.8   \n",
       "\n",
       "   killer_position_y      map  \\\n",
       "0           443307.6  MIRAMAR   \n",
       "1           566232.6  MIRAMAR   \n",
       "2           235056.8  ERANGEL   \n",
       "3                NaN  ERANGEL   \n",
       "4           347930.4  ERANGEL   \n",
       "\n",
       "                                            match_id  time       victim_name  \\\n",
       "0  2U4GBNA0Ymkpggu1uhT3W6mTS1FSPVOGp7GUN-YyCcamfa...   952           Mine008   \n",
       "1  2U4GBNA0Ymn8kakDAwbXTATnl3CCPAnVzdY3Mv29Dwu0oj...   828            Shkr89   \n",
       "2  2U4GBNA0Ymns8sj0nKyxZWl3B7-0CKMW0-RYyMYrg2IMl5...   671  TlknBoutPractice   \n",
       "3  2U4GBNA0YmncC2jML4aUKeThs1I5Oy0q66F5BjBBeBdnE4...   167           Frivolo   \n",
       "4  2U4GBNA0YmkJzzwKWMn2RkYLgpI-0HStabLs0H5CdDwYoX...  1634       SpyderxByte   \n",
       "\n",
       "   victim_placement  victim_position_x  victim_position_y  \n",
       "0              16.0           406548.9           443307.6  \n",
       "1              14.0           470162.2           567417.4  \n",
       "2              15.0           548855.9           233495.8  \n",
       "3              27.0                0.0                0.0  \n",
       "4               6.0           291005.5           348340.9  "
      ]
     },
     "execution_count": 4,
     "metadata": {},
     "output_type": "execute_result"
    }
   ],
   "source": [
    "df.head()"
   ]
  },
  {
   "cell_type": "markdown",
   "metadata": {},
   "source": [
    "# Objective\n",
    "\n",
    "1. Senjata yang paling banyak digunakan untuk membunuh?\n",
    "2. Detail Senjata TOP 3\n",
    "3. Heatmap lokasi pemain banyak terbunuh\n",
    "4. Motion Graph waktu dengan jumlah kematian\n",
    "5. Senjata yang sering digunakan di early dan late game?"
   ]
  },
  {
   "cell_type": "markdown",
   "metadata": {},
   "source": [
    "### Data Description\n",
    "\n",
    "|Variable Name|\tVariable Meaning|\tVariable Type|\n",
    "| :--- | :--- | :--- |\n",
    "|killed_by|\tWhich weapon is killed|\tNominal|\n",
    "|killer_name|\tKiller game id|\tNominal|\n",
    "|killer_placement|\tThe final ranking of the team where the killer is located|\tDiscrete|\n",
    "|killer_position_x|\tX coordinate of the killer when the killing behavior occurs|\tContinuous|\n",
    "|killer_position_y|\tThe Y coordinate of the killer when the killing behavior occurs|\tContinuous|\n",
    "|map|\tGame Map (ERANGEL ISLAND/MIRAMAR DESERT)| Nominal|\n",
    "|match_id|\tEvent Unique ID|\tNominal|\n",
    "|time|\tWhen the kill occurs (how many seconds after the game starts)|\tDiscrete|\n",
    "|victim_name|\tThe killed game id|\tNominal|\n",
    "|victim_placement|\tThe final ranking of the team where the killer is located|\tDiscrete|\n",
    "|victim_position_x|\tX coordinate of the person being killed when the killing occurs|\tContinuous|\n",
    "|victim_position_y|\tThe Y coordinate of the killer at the time of the killing behavior|\tContinuous|\n"
   ]
  },
  {
   "cell_type": "code",
   "execution_count": 72,
   "metadata": {
    "scrolled": true
   },
   "outputs": [
    {
     "name": "stdout",
     "output_type": "stream",
     "text": [
      "<class 'pandas.core.frame.DataFrame'>\n",
      "RangeIndex: 500000 entries, 0 to 499999\n",
      "Data columns (total 12 columns):\n",
      " #   Column             Non-Null Count   Dtype  \n",
      "---  ------             --------------   -----  \n",
      " 0   killed_by          500000 non-null  object \n",
      " 1   killer_name        465690 non-null  object \n",
      " 2   killer_placement   465690 non-null  float64\n",
      " 3   killer_position_x  465690 non-null  float64\n",
      " 4   killer_position_y  465690 non-null  float64\n",
      " 5   map                493950 non-null  object \n",
      " 6   match_id           500000 non-null  object \n",
      " 7   time               500000 non-null  int64  \n",
      " 8   victim_name        500000 non-null  object \n",
      " 9   victim_placement   490521 non-null  float64\n",
      " 10  victim_position_x  500000 non-null  float64\n",
      " 11  victim_position_y  500000 non-null  float64\n",
      "dtypes: float64(6), int64(1), object(5)\n",
      "memory usage: 45.8+ MB\n"
     ]
    }
   ],
   "source": [
    "df.info()"
   ]
  },
  {
   "cell_type": "code",
   "execution_count": 6,
   "metadata": {},
   "outputs": [
    {
     "data": {
      "text/plain": [
       "['killed_by',\n",
       " 'killer_name',\n",
       " 'killer_placement',\n",
       " 'killer_position_x',\n",
       " 'killer_position_y',\n",
       " 'map',\n",
       " 'match_id',\n",
       " 'time',\n",
       " 'victim_name',\n",
       " 'victim_placement',\n",
       " 'victim_position_x',\n",
       " 'victim_position_y']"
      ]
     },
     "execution_count": 6,
     "metadata": {},
     "output_type": "execute_result"
    }
   ],
   "source": [
    "list(df.columns)"
   ]
  },
  {
   "cell_type": "markdown",
   "metadata": {},
   "source": [
    "### Data Preparation"
   ]
  },
  {
   "cell_type": "code",
   "execution_count": 7,
   "metadata": {},
   "outputs": [],
   "source": [
    "df.dropna(inplace=True)"
   ]
  },
  {
   "cell_type": "code",
   "execution_count": 8,
   "metadata": {},
   "outputs": [],
   "source": [
    "df.rename(columns={'time' : 'time(s)'}, inplace = True)"
   ]
  },
  {
   "cell_type": "code",
   "execution_count": 9,
   "metadata": {},
   "outputs": [
    {
     "data": {
      "text/html": [
       "<div>\n",
       "<style scoped>\n",
       "    .dataframe tbody tr th:only-of-type {\n",
       "        vertical-align: middle;\n",
       "    }\n",
       "\n",
       "    .dataframe tbody tr th {\n",
       "        vertical-align: top;\n",
       "    }\n",
       "\n",
       "    .dataframe thead th {\n",
       "        text-align: right;\n",
       "    }\n",
       "</style>\n",
       "<table border=\"1\" class=\"dataframe\">\n",
       "  <thead>\n",
       "    <tr style=\"text-align: right;\">\n",
       "      <th></th>\n",
       "      <th>killed_by</th>\n",
       "      <th>killer_name</th>\n",
       "      <th>killer_placement</th>\n",
       "      <th>killer_position_x</th>\n",
       "      <th>killer_position_y</th>\n",
       "      <th>map</th>\n",
       "      <th>match_id</th>\n",
       "      <th>time(s)</th>\n",
       "      <th>victim_name</th>\n",
       "      <th>victim_placement</th>\n",
       "      <th>victim_position_x</th>\n",
       "      <th>victim_position_y</th>\n",
       "    </tr>\n",
       "  </thead>\n",
       "  <tbody>\n",
       "    <tr>\n",
       "      <th>0</th>\n",
       "      <td>Hit by Car</td>\n",
       "      <td>Mine008</td>\n",
       "      <td>16.0</td>\n",
       "      <td>406548.9</td>\n",
       "      <td>443307.6</td>\n",
       "      <td>MIRAMAR</td>\n",
       "      <td>2U4GBNA0Ymkpggu1uhT3W6mTS1FSPVOGp7GUN-YyCcamfa...</td>\n",
       "      <td>952</td>\n",
       "      <td>Mine008</td>\n",
       "      <td>16.0</td>\n",
       "      <td>406548.9</td>\n",
       "      <td>443307.6</td>\n",
       "    </tr>\n",
       "    <tr>\n",
       "      <th>1</th>\n",
       "      <td>SCAR-L</td>\n",
       "      <td>EXcarLiber</td>\n",
       "      <td>7.0</td>\n",
       "      <td>467967.8</td>\n",
       "      <td>566232.6</td>\n",
       "      <td>MIRAMAR</td>\n",
       "      <td>2U4GBNA0Ymn8kakDAwbXTATnl3CCPAnVzdY3Mv29Dwu0oj...</td>\n",
       "      <td>828</td>\n",
       "      <td>Shkr89</td>\n",
       "      <td>14.0</td>\n",
       "      <td>470162.2</td>\n",
       "      <td>567417.4</td>\n",
       "    </tr>\n",
       "    <tr>\n",
       "      <th>2</th>\n",
       "      <td>UMP9</td>\n",
       "      <td>bilibilifanfan</td>\n",
       "      <td>10.0</td>\n",
       "      <td>546012.1</td>\n",
       "      <td>235056.8</td>\n",
       "      <td>ERANGEL</td>\n",
       "      <td>2U4GBNA0Ymns8sj0nKyxZWl3B7-0CKMW0-RYyMYrg2IMl5...</td>\n",
       "      <td>671</td>\n",
       "      <td>TlknBoutPractice</td>\n",
       "      <td>15.0</td>\n",
       "      <td>548855.9</td>\n",
       "      <td>233495.8</td>\n",
       "    </tr>\n",
       "    <tr>\n",
       "      <th>4</th>\n",
       "      <td>M416</td>\n",
       "      <td>Penard</td>\n",
       "      <td>2.0</td>\n",
       "      <td>292111.8</td>\n",
       "      <td>347930.4</td>\n",
       "      <td>ERANGEL</td>\n",
       "      <td>2U4GBNA0YmkJzzwKWMn2RkYLgpI-0HStabLs0H5CdDwYoX...</td>\n",
       "      <td>1634</td>\n",
       "      <td>SpyderxByte</td>\n",
       "      <td>6.0</td>\n",
       "      <td>291005.5</td>\n",
       "      <td>348340.9</td>\n",
       "    </tr>\n",
       "    <tr>\n",
       "      <th>5</th>\n",
       "      <td>M416</td>\n",
       "      <td>LandG1314</td>\n",
       "      <td>15.0</td>\n",
       "      <td>515510.3</td>\n",
       "      <td>498309.9</td>\n",
       "      <td>ERANGEL</td>\n",
       "      <td>2U4GBNA0Ymm9rIRnggyA-ySgPGoS-7I740gePRquriJRec...</td>\n",
       "      <td>1091</td>\n",
       "      <td>GandL1111</td>\n",
       "      <td>15.0</td>\n",
       "      <td>515470.2</td>\n",
       "      <td>498240.6</td>\n",
       "    </tr>\n",
       "  </tbody>\n",
       "</table>\n",
       "</div>"
      ],
      "text/plain": [
       "    killed_by     killer_name  killer_placement  killer_position_x  \\\n",
       "0  Hit by Car         Mine008              16.0           406548.9   \n",
       "1      SCAR-L      EXcarLiber               7.0           467967.8   \n",
       "2        UMP9  bilibilifanfan              10.0           546012.1   \n",
       "4        M416          Penard               2.0           292111.8   \n",
       "5        M416       LandG1314              15.0           515510.3   \n",
       "\n",
       "   killer_position_y      map  \\\n",
       "0           443307.6  MIRAMAR   \n",
       "1           566232.6  MIRAMAR   \n",
       "2           235056.8  ERANGEL   \n",
       "4           347930.4  ERANGEL   \n",
       "5           498309.9  ERANGEL   \n",
       "\n",
       "                                            match_id  time(s)  \\\n",
       "0  2U4GBNA0Ymkpggu1uhT3W6mTS1FSPVOGp7GUN-YyCcamfa...      952   \n",
       "1  2U4GBNA0Ymn8kakDAwbXTATnl3CCPAnVzdY3Mv29Dwu0oj...      828   \n",
       "2  2U4GBNA0Ymns8sj0nKyxZWl3B7-0CKMW0-RYyMYrg2IMl5...      671   \n",
       "4  2U4GBNA0YmkJzzwKWMn2RkYLgpI-0HStabLs0H5CdDwYoX...     1634   \n",
       "5  2U4GBNA0Ymm9rIRnggyA-ySgPGoS-7I740gePRquriJRec...     1091   \n",
       "\n",
       "        victim_name  victim_placement  victim_position_x  victim_position_y  \n",
       "0           Mine008              16.0           406548.9           443307.6  \n",
       "1            Shkr89              14.0           470162.2           567417.4  \n",
       "2  TlknBoutPractice              15.0           548855.9           233495.8  \n",
       "4       SpyderxByte               6.0           291005.5           348340.9  \n",
       "5         GandL1111              15.0           515470.2           498240.6  "
      ]
     },
     "execution_count": 9,
     "metadata": {},
     "output_type": "execute_result"
    }
   ],
   "source": [
    "df.head()"
   ]
  },
  {
   "cell_type": "markdown",
   "metadata": {},
   "source": [
    "### Senjata yang paling banyak digunakan untuk membunuh"
   ]
  },
  {
   "cell_type": "code",
   "execution_count": 10,
   "metadata": {},
   "outputs": [],
   "source": [
    "df_bestgun = df.groupby(['killed_by']).count().sort_values('killer_name', ascending = False).reset_index()[['killed_by','killer_name']]\n",
    "df_bestgun.rename(columns={ 'killer_name':'Total'}, inplace = True)\n",
    "df_bestgun.drop([0], axis = 0, inplace = True)\n",
    "df_bestgun.set_index('killed_by', inplace = True)\n"
   ]
  },
  {
   "cell_type": "code",
   "execution_count": 27,
   "metadata": {},
   "outputs": [],
   "source": [
    "df_bestgun.reset_index(inplace = True)"
   ]
  },
  {
   "cell_type": "code",
   "execution_count": 28,
   "metadata": {},
   "outputs": [
    {
     "data": {
      "text/html": [
       "<div>\n",
       "<style scoped>\n",
       "    .dataframe tbody tr th:only-of-type {\n",
       "        vertical-align: middle;\n",
       "    }\n",
       "\n",
       "    .dataframe tbody tr th {\n",
       "        vertical-align: top;\n",
       "    }\n",
       "\n",
       "    .dataframe thead th {\n",
       "        text-align: right;\n",
       "    }\n",
       "</style>\n",
       "<table border=\"1\" class=\"dataframe\">\n",
       "  <thead>\n",
       "    <tr style=\"text-align: right;\">\n",
       "      <th></th>\n",
       "      <th>killed_by</th>\n",
       "      <th>Total</th>\n",
       "    </tr>\n",
       "  </thead>\n",
       "  <tbody>\n",
       "    <tr>\n",
       "      <th>0</th>\n",
       "      <td>M416</td>\n",
       "      <td>55757</td>\n",
       "    </tr>\n",
       "    <tr>\n",
       "      <th>1</th>\n",
       "      <td>SCAR-L</td>\n",
       "      <td>45576</td>\n",
       "    </tr>\n",
       "    <tr>\n",
       "      <th>2</th>\n",
       "      <td>M16A4</td>\n",
       "      <td>45111</td>\n",
       "    </tr>\n",
       "    <tr>\n",
       "      <th>3</th>\n",
       "      <td>AKM</td>\n",
       "      <td>41560</td>\n",
       "    </tr>\n",
       "    <tr>\n",
       "      <th>4</th>\n",
       "      <td>UMP9</td>\n",
       "      <td>26657</td>\n",
       "    </tr>\n",
       "  </tbody>\n",
       "</table>\n",
       "</div>"
      ],
      "text/plain": [
       "  killed_by  Total\n",
       "0      M416  55757\n",
       "1    SCAR-L  45576\n",
       "2     M16A4  45111\n",
       "3       AKM  41560\n",
       "4      UMP9  26657"
      ]
     },
     "execution_count": 28,
     "metadata": {},
     "output_type": "execute_result"
    }
   ],
   "source": [
    "df_bestgun.head()"
   ]
  },
  {
   "cell_type": "markdown",
   "metadata": {},
   "source": [
    "### Detail Senjata Top 3"
   ]
  },
  {
   "cell_type": "code",
   "execution_count": 49,
   "metadata": {},
   "outputs": [],
   "source": [
    "gunstats = pd.read_csv('pubg-weapon-stats.csv')"
   ]
  },
  {
   "cell_type": "code",
   "execution_count": 51,
   "metadata": {},
   "outputs": [],
   "source": [
    "gun = ['M416','SCAR-L','M16A4']\n",
    "list_col = ['Weapon Name', 'Weapon Type', 'Bullet Speed', 'Damage Per Second', 'Fire Mode']\n",
    "top3 = gunstats.loc[gunstats['Weapon Name'].isin(gun)][list_col]"
   ]
  },
  {
   "cell_type": "code",
   "execution_count": 52,
   "metadata": {},
   "outputs": [
    {
     "data": {
      "text/html": [
       "<div>\n",
       "<style scoped>\n",
       "    .dataframe tbody tr th:only-of-type {\n",
       "        vertical-align: middle;\n",
       "    }\n",
       "\n",
       "    .dataframe tbody tr th {\n",
       "        vertical-align: top;\n",
       "    }\n",
       "\n",
       "    .dataframe thead th {\n",
       "        text-align: right;\n",
       "    }\n",
       "</style>\n",
       "<table border=\"1\" class=\"dataframe\">\n",
       "  <thead>\n",
       "    <tr style=\"text-align: right;\">\n",
       "      <th></th>\n",
       "      <th>Weapon Name</th>\n",
       "      <th>Weapon Type</th>\n",
       "      <th>Bullet Speed</th>\n",
       "      <th>Damage Per Second</th>\n",
       "      <th>Fire Mode</th>\n",
       "    </tr>\n",
       "  </thead>\n",
       "  <tbody>\n",
       "    <tr>\n",
       "      <th>5</th>\n",
       "      <td>SCAR-L</td>\n",
       "      <td>Assault Rifle</td>\n",
       "      <td>880.0</td>\n",
       "      <td>448.0</td>\n",
       "      <td>Single, Automatic</td>\n",
       "    </tr>\n",
       "    <tr>\n",
       "      <th>6</th>\n",
       "      <td>M416</td>\n",
       "      <td>Assault Rifle</td>\n",
       "      <td>890.0</td>\n",
       "      <td>502.0</td>\n",
       "      <td>Single, Automatic</td>\n",
       "    </tr>\n",
       "    <tr>\n",
       "      <th>7</th>\n",
       "      <td>M16A4</td>\n",
       "      <td>Assault Rifle</td>\n",
       "      <td>900.0</td>\n",
       "      <td>430.0</td>\n",
       "      <td>Single, Burst</td>\n",
       "    </tr>\n",
       "  </tbody>\n",
       "</table>\n",
       "</div>"
      ],
      "text/plain": [
       "  Weapon Name    Weapon Type  Bullet Speed  Damage Per Second  \\\n",
       "5      SCAR-L  Assault Rifle         880.0              448.0   \n",
       "6        M416  Assault Rifle         890.0              502.0   \n",
       "7       M16A4  Assault Rifle         900.0              430.0   \n",
       "\n",
       "           Fire Mode  \n",
       "5  Single, Automatic  \n",
       "6  Single, Automatic  \n",
       "7      Single, Burst  "
      ]
     },
     "execution_count": 52,
     "metadata": {},
     "output_type": "execute_result"
    }
   ],
   "source": [
    "top3"
   ]
  },
  {
   "cell_type": "markdown",
   "metadata": {},
   "source": [
    "### Heatmap lokasi pemain banyak terbunuh"
   ]
  },
  {
   "cell_type": "code",
   "execution_count": 62,
   "metadata": {},
   "outputs": [],
   "source": [
    "df[['victim_position_x', 'victim_position_y']].to_csv('heatmapdeath.csv')"
   ]
  },
  {
   "cell_type": "code",
   "execution_count": 61,
   "metadata": {
    "scrolled": true
   },
   "outputs": [
    {
     "data": {
      "text/html": [
       "<div>\n",
       "<style scoped>\n",
       "    .dataframe tbody tr th:only-of-type {\n",
       "        vertical-align: middle;\n",
       "    }\n",
       "\n",
       "    .dataframe tbody tr th {\n",
       "        vertical-align: top;\n",
       "    }\n",
       "\n",
       "    .dataframe thead th {\n",
       "        text-align: right;\n",
       "    }\n",
       "</style>\n",
       "<table border=\"1\" class=\"dataframe\">\n",
       "  <thead>\n",
       "    <tr style=\"text-align: right;\">\n",
       "      <th></th>\n",
       "      <th>victim_position_x</th>\n",
       "      <th>victim_position_y</th>\n",
       "    </tr>\n",
       "  </thead>\n",
       "  <tbody>\n",
       "    <tr>\n",
       "      <th>count</th>\n",
       "      <td>450784.000000</td>\n",
       "      <td>450784.000000</td>\n",
       "    </tr>\n",
       "    <tr>\n",
       "      <th>mean</th>\n",
       "      <td>404558.944267</td>\n",
       "      <td>388083.788699</td>\n",
       "    </tr>\n",
       "    <tr>\n",
       "      <th>std</th>\n",
       "      <td>150970.887444</td>\n",
       "      <td>147466.351631</td>\n",
       "    </tr>\n",
       "    <tr>\n",
       "      <th>min</th>\n",
       "      <td>0.000000</td>\n",
       "      <td>0.000000</td>\n",
       "    </tr>\n",
       "    <tr>\n",
       "      <th>25%</th>\n",
       "      <td>327105.425000</td>\n",
       "      <td>292082.550000</td>\n",
       "    </tr>\n",
       "    <tr>\n",
       "      <th>50%</th>\n",
       "      <td>413314.300000</td>\n",
       "      <td>383745.450000</td>\n",
       "    </tr>\n",
       "    <tr>\n",
       "      <th>75%</th>\n",
       "      <td>505255.300000</td>\n",
       "      <td>480732.750000</td>\n",
       "    </tr>\n",
       "    <tr>\n",
       "      <th>max</th>\n",
       "      <td>794500.900000</td>\n",
       "      <td>795902.100000</td>\n",
       "    </tr>\n",
       "  </tbody>\n",
       "</table>\n",
       "</div>"
      ],
      "text/plain": [
       "       victim_position_x  victim_position_y\n",
       "count      450784.000000      450784.000000\n",
       "mean       404558.944267      388083.788699\n",
       "std        150970.887444      147466.351631\n",
       "min             0.000000           0.000000\n",
       "25%        327105.425000      292082.550000\n",
       "50%        413314.300000      383745.450000\n",
       "75%        505255.300000      480732.750000\n",
       "max        794500.900000      795902.100000"
      ]
     },
     "execution_count": 61,
     "metadata": {},
     "output_type": "execute_result"
    }
   ],
   "source": [
    "df[['victim_position_x', 'victim_position_y']].describe()"
   ]
  },
  {
   "cell_type": "markdown",
   "metadata": {},
   "source": [
    "### Total Kematian dalam Waktu tertentu"
   ]
  },
  {
   "cell_type": "code",
   "execution_count": 69,
   "metadata": {},
   "outputs": [
    {
     "data": {
      "text/plain": [
       "count    450784.000000\n",
       "mean        728.264548\n",
       "std         551.955718\n",
       "min          60.000000\n",
       "25%         229.000000\n",
       "50%         552.000000\n",
       "75%        1194.000000\n",
       "max        2191.000000\n",
       "Name: time(s), dtype: float64"
      ]
     },
     "execution_count": 69,
     "metadata": {},
     "output_type": "execute_result"
    }
   ],
   "source": [
    "df['time(s)'].describe()"
   ]
  },
  {
   "cell_type": "code",
   "execution_count": 67,
   "metadata": {},
   "outputs": [
    {
     "data": {
      "text/plain": [
       "0     952\n",
       "1     828\n",
       "2     671\n",
       "4    1634\n",
       "5    1091\n",
       "Name: time(s), dtype: int64"
      ]
     },
     "execution_count": 67,
     "metadata": {},
     "output_type": "execute_result"
    }
   ],
   "source": [
    "time.head()"
   ]
  }
 ],
 "metadata": {
  "kernelspec": {
   "display_name": "Python 3",
   "language": "python",
   "name": "python3"
  },
  "language_info": {
   "codemirror_mode": {
    "name": "ipython",
    "version": 3
   },
   "file_extension": ".py",
   "mimetype": "text/x-python",
   "name": "python",
   "nbconvert_exporter": "python",
   "pygments_lexer": "ipython3",
   "version": "3.7.1"
  }
 },
 "nbformat": 4,
 "nbformat_minor": 4
}
